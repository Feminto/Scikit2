{
 "cells": [
  {
   "cell_type": "markdown",
   "id": "6eb62e3d",
   "metadata": {},
   "source": [
    "# **Deploy a Machine Learning Model using Streamlit Library**\n",
    "\n",
    "## 1. Introduction to Streamlit 🚀\n",
    "\n",
    "Streamlit is a Python library for building interactive web apps, especially useful for ML projects. It abstracts away web development complexities—no need to handle backend or HTTP requests manually."
   ]
  },
  {
   "cell_type": "markdown",
   "id": "7f6729a7",
   "metadata": {},
   "source": [
    "## 2. Step-by-Step Deployment Flow\n",
    "\n",
    "### 2.1 Importing Libraries & Loading Dataset"
   ]
  },
  {
   "cell_type": "code",
   "execution_count": 10,
   "id": "30174df8",
   "metadata": {},
   "outputs": [],
   "source": [
    "# The article uses the Iris dataset with Pandas and scikit‑learn:\n",
    "import pandas as pd\n",
    "from sklearn.model_selection import train_test_split\n",
    "from sklearn.ensemble import RandomForestClassifier\n",
    "from sklearn.metrics import accuracy_score\n",
    "from sklearn.datasets import load_iris\n",
    "\n",
    "df = load_iris()"
   ]
  },
  {
   "cell_type": "markdown",
   "id": "3da1229f",
   "metadata": {},
   "source": [
    "### 2.2 Training the Model"
   ]
  },
  {
   "cell_type": "code",
   "execution_count": 11,
   "id": "3875a4cf",
   "metadata": {},
   "outputs": [
    {
     "name": "stdout",
     "output_type": "stream",
     "text": [
      "Model accuracy: 100.00%\n"
     ]
    }
   ],
   "source": [
    "# Basic preprocessing and training a Random Forest:\n",
    "\n",
    "X = df.data\n",
    "y = df.target\n",
    "\n",
    "X_train, X_test, y_train, y_test = train_test_split(\n",
    "    X, y, test_size=0.2, random_state=42)\n",
    "\n",
    "model = RandomForestClassifier()\n",
    "model.fit(X_train, y_train)\n",
    "\n",
    "y_pred = model.predict(X_test)\n",
    "accuracy = accuracy_score(y_test, y_pred)\n",
    "print(f\"Model accuracy: {accuracy * 100:.2f}%\")"
   ]
  },
  {
   "cell_type": "markdown",
   "id": "3a1b0830",
   "metadata": {},
   "source": [
    "### 2.3 Saving the Model\n",
    "\n",
    "Serialize the trained model using `pickle` for later use:"
   ]
  },
  {
   "cell_type": "code",
   "execution_count": 12,
   "id": "98bb6873",
   "metadata": {},
   "outputs": [],
   "source": [
    "import pickle\n",
    "\n",
    "with open(\"classifier.pkl\", \"wb\") as model_file:\n",
    "    pickle.dump(model, model_file)"
   ]
  },
  {
   "cell_type": "markdown",
   "id": "ca73f1e3",
   "metadata": {},
   "source": [
    "## 3. Building the Streamlit App\n",
    "\n",
    "### 3.1 App Script (`app.py`)\n",
    "\n",
    "Load the model and set up the UI with input sliders:"
   ]
  },
  {
   "cell_type": "code",
   "execution_count": null,
   "id": "43a21c40",
   "metadata": {},
   "outputs": [],
   "source": [
    "import streamlit as st\n",
    "import pickle\n",
    "import numpy as np\n",
    "\n",
    "with open(\"classifier.pkl\", \"rb\") as model_file:\n",
    "    model = pickle.load(model_file)\n",
    "\n",
    "st.title(\"Iris Species Classifier\")\n",
    "st.write(\"Enter the flower measurements to classify the species.\")\n",
    "\n",
    "sepal_length = st.slider(\"Sepal Length (cm)\", 4.0, 8.0, step=0.1)\n",
    "sepal_width  = st.slider(\"Sepal Width (cm)\", 2.0, 5.0, step=0.1)\n",
    "petal_length = st.slider(\"Petal Length (cm)\", 1.0, 7.0, step=0.1)\n",
    "petal_width  = st.slider(\"Petal Width (cm)\", 0.1, 2.5, step=0.1)\n",
    "\n",
    "if st.button(\"Predict\"):\n",
    "    features = np.array([[sepal_length, sepal_width, petal_length, petal_width]])\n",
    "    prediction = model.predict(features)\n",
    "    st.write(f\"Predicted Iris Species: {prediction[0]}\")"
   ]
  },
  {
   "cell_type": "markdown",
   "id": "9430b1c6",
   "metadata": {},
   "source": [
    "### 3.2 Launching the App\n",
    "\n",
    "Run the app locally:\\\n",
    "bash\\\n",
    "streamlit run app.py"
   ]
  },
  {
   "cell_type": "markdown",
   "id": "b8d19745",
   "metadata": {},
   "source": [
    "## 4. Why Streamlit?\n",
    "\n",
    "Advantages highlighted include:\n",
    "\n",
    "* **Simplicity**: No front-end or web development required.\n",
    "* **Pure Python**: Everything from UI to backend is Python code.\n",
    "* **Speed**: Quickly converts model scripts into interactive apps in minutes.\n",
    "\n",
    "---\n",
    "\n",
    "## 5. Beyond Basics (Contextual Notes)\n",
    "\n",
    "While the article focuses on Iris classification, similar patterns apply to other datasets (e.g., loan prediction, image models). Workflow remains:\n",
    "\n",
    "1. Train & save model.\n",
    "2. Build Streamlit UI.\n",
    "3. Deploy locally or via hosting services.\n",
    "\n",
    "---\n",
    "\n",
    "## 6. Complete Code Overview\n",
    "\n",
    "**Model training and saving (`train_model.py`):**"
   ]
  },
  {
   "cell_type": "code",
   "execution_count": null,
   "id": "423d9eea",
   "metadata": {},
   "outputs": [],
   "source": [
    "import pandas as pd\n",
    "from sklearn.model_selection import train_test_split\n",
    "from sklearn.ensemble import RandomForestClassifier\n",
    "from sklearn.metrics import accuracy_score\n",
    "import pickle\n",
    "\n",
    "df = pd.read_csv(\"iris.csv\")\n",
    "df.drop('Id', axis=1, inplace=True)\n",
    "\n",
    "X = df.drop('Species', axis=1)\n",
    "y = df['Species']\n",
    "\n",
    "X_train, X_test, y_train, y_test = train_test_split(\n",
    "    X, y, test_size=0.2, random_state=42)\n",
    "\n",
    "model = RandomForestClassifier()\n",
    "model.fit(X_train, y_train)\n",
    "\n",
    "y_pred = model.predict(X_test)\n",
    "print(f\"Model accuracy: {accuracy_score(y_test, y_pred) * 100:.2f}%\")\n",
    "\n",
    "with open(\"classifier.pkl\", \"wb\") as f:\n",
    "    pickle.dump(model, f)"
   ]
  },
  {
   "cell_type": "markdown",
   "id": "18dbc2df",
   "metadata": {},
   "source": [
    "**Streamlit app (`app.py`):** as shown above."
   ]
  },
  {
   "cell_type": "markdown",
   "id": "8f5f4e44",
   "metadata": {},
   "source": [
    "pip install streamlit scikit-learn pandas numpy\\\n",
    "python train_model.py\\\n",
    "streamlit run app.py"
   ]
  },
  {
   "cell_type": "markdown",
   "id": "1f7bd0a1",
   "metadata": {},
   "source": [
    "## 7. Final Thoughts\n",
    "\n",
    "* Streamlit enables rapid deployment of ML models as interactive web apps.\n",
    "* Ideal for demos, prototypes, internal tools, and sharing with non-technical audiences.\n",
    "* To go further: integrate with cloud hosting, scale models, add visuals or multi-page features."
   ]
  }
 ],
 "metadata": {
  "kernelspec": {
   "display_name": "base",
   "language": "python",
   "name": "python3"
  },
  "language_info": {
   "codemirror_mode": {
    "name": "ipython",
    "version": 3
   },
   "file_extension": ".py",
   "mimetype": "text/x-python",
   "name": "python",
   "nbconvert_exporter": "python",
   "pygments_lexer": "ipython3",
   "version": "3.11.7"
  }
 },
 "nbformat": 4,
 "nbformat_minor": 5
}
